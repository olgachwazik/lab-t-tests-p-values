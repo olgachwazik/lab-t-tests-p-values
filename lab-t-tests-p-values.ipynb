{
 "cells": [
  {
   "cell_type": "markdown",
   "id": "5ac8df2d",
   "metadata": {},
   "source": [
    "1. We will have another simple example on two sample t test (pooled- when the variances are equal). But this time this is a one sided t-test\n",
    "In a packing plant, a machine packs cartons with jars. It is supposed that a new machine will pack faster on the average than the machine currently used. To test that hypothesis, the times it takes each machine to pack ten cartons are recorded. The results, in seconds, are shown in the tables in the file files_for_lab/machine.txt. Assume that there is sufficient evidence to conduct the t test, does the data provide sufficient evidence to show if one machine is better than the other"
   ]
  },
  {
   "cell_type": "code",
   "execution_count": 3,
   "id": "7443f358",
   "metadata": {},
   "outputs": [],
   "source": [
    "import numpy as np\n",
    "from scipy import stats "
   ]
  },
  {
   "cell_type": "markdown",
   "id": "bd1a540a",
   "metadata": {},
   "source": [
    "null hypothesis: The two machines are the same. "
   ]
  },
  {
   "cell_type": "code",
   "execution_count": 6,
   "id": "54874b8a",
   "metadata": {},
   "outputs": [],
   "source": [
    "new_machine = [42.1, 41, 41.3, 41.8, 42.4, 42.8, 43.2, 42.3, 41.8, 42.8] \n",
    "old_machine = [42.7, 43.6, 43.8, 43.3, 42.5, 43.5, 43.1, 41.7, 44, 44.1]"
   ]
  },
  {
   "cell_type": "code",
   "execution_count": 7,
   "id": "3094f596",
   "metadata": {},
   "outputs": [
    {
     "name": "stdout",
     "output_type": "stream",
     "text": [
      "42.15 43.230000000000004\n"
     ]
    }
   ],
   "source": [
    "new_mean = np.mean(new_machine)\n",
    "new_std = np.std(new_machine)\n",
    "old_mean = np.mean(old_machine)\n",
    "old_std = np.std(old_machine)\n",
    "print (new_mean, old_mean)"
   ]
  },
  {
   "cell_type": "code",
   "execution_count": 8,
   "id": "9130da20",
   "metadata": {},
   "outputs": [
    {
     "name": "stdout",
     "output_type": "stream",
     "text": [
      "-3.3442961991985243 0.0036101698974697733\n"
     ]
    }
   ],
   "source": [
    "t_statistic, p_value = stats.ttest_ind(new_machine, old_machine)\n",
    "print (t_statistic, p_value)"
   ]
  },
  {
   "cell_type": "code",
   "execution_count": 9,
   "id": "d3215405",
   "metadata": {},
   "outputs": [
    {
     "name": "stdout",
     "output_type": "stream",
     "text": [
      "We can reject the null hypothesis. The machines are not the same.\n"
     ]
    }
   ],
   "source": [
    "alpha = 0.05\n",
    "if p_value < alpha:\n",
    "    print (\"We can reject the null hypothesis. The machines are not the same.\")\n",
    "else: \n",
    "    print (\"We can not rejest the null hypothesis.\")"
   ]
  }
 ],
 "metadata": {
  "kernelspec": {
   "display_name": "Python 3 (ipykernel)",
   "language": "python",
   "name": "python3"
  },
  "language_info": {
   "codemirror_mode": {
    "name": "ipython",
    "version": 3
   },
   "file_extension": ".py",
   "mimetype": "text/x-python",
   "name": "python",
   "nbconvert_exporter": "python",
   "pygments_lexer": "ipython3",
   "version": "3.10.9"
  }
 },
 "nbformat": 4,
 "nbformat_minor": 5
}
